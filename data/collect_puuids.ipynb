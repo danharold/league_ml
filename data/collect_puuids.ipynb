{
 "cells": [
  {
   "cell_type": "code",
   "execution_count": 2,
   "metadata": {},
   "outputs": [],
   "source": [
    "import json\n",
    "import os\n",
    "import sys\n",
    "\n",
    "sys.path.append(os.path.normpath(os.path.join(os.path.dirname(os.path.abspath('')), '.')))\n",
    "from riot_request.request import RiotRequest\n",
    "\n",
    "api_key = 'RGAPI-d5349f5f-3608-4d31-9953-bcc80eb60114'\n",
    "riot = RiotRequest(api_key, \"Incident\", \"euw1\")"
   ]
  },
  {
   "cell_type": "code",
   "execution_count": 3,
   "metadata": {},
   "outputs": [],
   "source": [
    "m_players = riot.get_master_players()\n",
    "gm_players = riot.get_grandmaster_players()\n",
    "c_players = riot.get_challenger_players()\n",
    "\n",
    "m_summonerids = riot.get_summonerIds_from_players(m_players)\n",
    "gm_summonerids = riot.get_summonerIds_from_players(gm_players)\n",
    "c_summonerids = riot.get_summonerIds_from_players(c_players)\n",
    "m_plus_summonerids = m_summonerids + gm_summonerids + c_summonerids"
   ]
  },
  {
   "cell_type": "code",
   "execution_count": 8,
   "metadata": {},
   "outputs": [
    {
     "name": "stdout",
     "output_type": "stream",
     "text": [
      "Retrieving puuids (i = 0 of 9073)\n",
      "Retrieving puuids (i = 1 of 9073)\n",
      "Retrieving puuids (i = 2 of 9073)\n",
      "Retrieving puuids (i = 3 of 9073)\n",
      "Retrieving puuids (i = 4 of 9073)\n",
      "Retrieving puuids (i = 5 of 9073)\n",
      "Retrieving puuids (i = 6 of 9073)\n",
      "Retrieving puuids (i = 7 of 9073)\n",
      "Retrieving puuids (i = 8 of 9073)\n",
      "Retrieving puuids (i = 9 of 9073)\n",
      "Retrieving puuids (i = 10 of 9073)\n",
      "Retrieving puuids (i = 11 of 9073)\n",
      "Retrieving puuids (i = 12 of 9073)\n",
      "Retrieving puuids (i = 13 of 9073)\n",
      "Retrieving puuids (i = 14 of 9073)\n",
      "Retrieving puuids (i = 15 of 9073)\n",
      "Retrieving puuids (i = 16 of 9073)\n",
      "Retrieving puuids (i = 17 of 9073)\n",
      "Retrieving puuids (i = 18 of 9073)\n",
      "Retrieving puuids (i = 19 of 9073)\n",
      "Retrieving puuids (i = 20 of 9073)\n",
      "Retrieving puuids (i = 21 of 9073)\n",
      "Retrieving puuids (i = 22 of 9073)\n",
      "Retrieving puuids (i = 23 of 9073)\n",
      "Retrieving puuids (i = 24 of 9073)\n",
      "Retrieving puuids (i = 25 of 9073)\n",
      "Retrieving puuids (i = 26 of 9073)\n",
      "Retrieving puuids (i = 27 of 9073)\n",
      "Retrieving puuids (i = 28 of 9073)\n",
      "Retrieving puuids (i = 29 of 9073)\n",
      "Retrieving puuids (i = 30 of 9073)\n"
     ]
    }
   ],
   "source": [
    "puuids = riot.get_puuids_from_summonerIds(m_plus_summonerids)\n",
    "\n",
    "with open(\"puuids.json\", \"w\"):\n",
    "    json.dump(puuids, f)"
   ]
  }
 ],
 "metadata": {
  "kernelspec": {
   "display_name": "Python 3.10.5 ('.venv': venv)",
   "language": "python",
   "name": "python3"
  },
  "language_info": {
   "codemirror_mode": {
    "name": "ipython",
    "version": 3
   },
   "file_extension": ".py",
   "mimetype": "text/x-python",
   "name": "python",
   "nbconvert_exporter": "python",
   "pygments_lexer": "ipython3",
   "version": "3.10.5"
  },
  "orig_nbformat": 4,
  "vscode": {
   "interpreter": {
    "hash": "6c9671c7439d8568b827106e379be76ff2cee694f1855beed06dab4c92d78103"
   }
  }
 },
 "nbformat": 4,
 "nbformat_minor": 2
}
