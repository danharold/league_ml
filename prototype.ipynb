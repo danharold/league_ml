{
 "cells": [
  {
   "cell_type": "code",
   "execution_count": 2,
   "metadata": {},
   "outputs": [
    {
     "ename": "HTTPError",
     "evalue": "403 Client Error: Forbidden for url: https://euw1.api.riotgames.com/lol/summoner/v4/summoners/by-name/Incident",
     "output_type": "error",
     "traceback": [
      "\u001b[1;31m---------------------------------------------------------------------------\u001b[0m",
      "\u001b[1;31mHTTPError\u001b[0m                                 Traceback (most recent call last)",
      "File \u001b[1;32mc:\\Users\\Dan\\docs\\aws\\league_ml\\.venv\\lib\\site-packages\\riotwatcher\\Handlers\\ThrowOnErrorHandler.py:18\u001b[0m, in \u001b[0;36mThrowOnErrorHandler.after_request\u001b[1;34m(self, region, endpoint_name, method_name, url, response)\u001b[0m\n\u001b[0;32m     17\u001b[0m \u001b[39mtry\u001b[39;00m:\n\u001b[1;32m---> 18\u001b[0m     response\u001b[39m.\u001b[39;49mraise_for_status()\n\u001b[0;32m     19\u001b[0m \u001b[39mexcept\u001b[39;00m requests\u001b[39m.\u001b[39mHTTPError \u001b[39mas\u001b[39;00m err:\n",
      "File \u001b[1;32mc:\\Users\\Dan\\docs\\aws\\league_ml\\.venv\\lib\\site-packages\\requests\\models.py:1021\u001b[0m, in \u001b[0;36mResponse.raise_for_status\u001b[1;34m(self)\u001b[0m\n\u001b[0;32m   1020\u001b[0m \u001b[39mif\u001b[39;00m http_error_msg:\n\u001b[1;32m-> 1021\u001b[0m     \u001b[39mraise\u001b[39;00m HTTPError(http_error_msg, response\u001b[39m=\u001b[39m\u001b[39mself\u001b[39m)\n",
      "\u001b[1;31mHTTPError\u001b[0m: 403 Client Error: Forbidden for url: https://euw1.api.riotgames.com/lol/summoner/v4/summoners/by-name/Incident",
      "\nDuring handling of the above exception, another exception occurred:\n",
      "\u001b[1;31mHTTPError\u001b[0m                                 Traceback (most recent call last)",
      "\u001b[1;32mc:\\Users\\Dan\\docs\\aws\\league_ml\\test.ipynb Cell 1\u001b[0m in \u001b[0;36m<cell line: 4>\u001b[1;34m()\u001b[0m\n\u001b[0;32m      <a href='vscode-notebook-cell:/c%3A/Users/Dan/docs/aws/league_ml/test.ipynb#W0sZmlsZQ%3D%3D?line=0'>1</a>\u001b[0m \u001b[39mfrom\u001b[39;00m \u001b[39mriot_request\u001b[39;00m\u001b[39m.\u001b[39;00m\u001b[39mrequest\u001b[39;00m \u001b[39mimport\u001b[39;00m RiotRequest\n\u001b[0;32m      <a href='vscode-notebook-cell:/c%3A/Users/Dan/docs/aws/league_ml/test.ipynb#W0sZmlsZQ%3D%3D?line=2'>3</a>\u001b[0m api_key \u001b[39m=\u001b[39m \u001b[39m\"\u001b[39m\u001b[39mRGAPI-94402067-bb26-4a4c-b517-216bd4d50a4f\u001b[39m\u001b[39m\"\u001b[39m\n\u001b[1;32m----> <a href='vscode-notebook-cell:/c%3A/Users/Dan/docs/aws/league_ml/test.ipynb#W0sZmlsZQ%3D%3D?line=3'>4</a>\u001b[0m riot \u001b[39m=\u001b[39m RiotRequest(api_key, \u001b[39m\"\u001b[39;49m\u001b[39mIncident\u001b[39;49m\u001b[39m\"\u001b[39;49m, \u001b[39m\"\u001b[39;49m\u001b[39meuw1\u001b[39;49m\u001b[39m\"\u001b[39;49m)\n",
      "File \u001b[1;32mc:\\Users\\Dan\\docs\\aws\\league_ml\\riot_request\\request.py:14\u001b[0m, in \u001b[0;36mRiotRequest.__init__\u001b[1;34m(self, api_key, summoner, region)\u001b[0m\n\u001b[0;32m     11\u001b[0m \u001b[39mself\u001b[39m\u001b[39m.\u001b[39mregion \u001b[39m=\u001b[39m region\n\u001b[0;32m     13\u001b[0m \u001b[39mself\u001b[39m\u001b[39m.\u001b[39mwatcher \u001b[39m=\u001b[39m LolWatcher(api_key)\n\u001b[1;32m---> 14\u001b[0m \u001b[39mself\u001b[39m\u001b[39m.\u001b[39mme \u001b[39m=\u001b[39m \u001b[39mself\u001b[39;49m\u001b[39m.\u001b[39;49mwatcher\u001b[39m.\u001b[39;49msummoner\u001b[39m.\u001b[39;49mby_name(\u001b[39mself\u001b[39;49m\u001b[39m.\u001b[39;49mregion, \u001b[39mself\u001b[39;49m\u001b[39m.\u001b[39;49msummoner)\n\u001b[0;32m     16\u001b[0m latest \u001b[39m=\u001b[39m \u001b[39mself\u001b[39m\u001b[39m.\u001b[39mwatcher\u001b[39m.\u001b[39mdata_dragon\u001b[39m.\u001b[39mversions_for_region(region)[\u001b[39m'\u001b[39m\u001b[39mn\u001b[39m\u001b[39m'\u001b[39m][\u001b[39m'\u001b[39m\u001b[39mchampion\u001b[39m\u001b[39m'\u001b[39m]\n\u001b[0;32m     17\u001b[0m static_champ_list \u001b[39m=\u001b[39m \u001b[39mself\u001b[39m\u001b[39m.\u001b[39mwatcher\u001b[39m.\u001b[39mdata_dragon\u001b[39m.\u001b[39mchampions(latest, \u001b[39mFalse\u001b[39;00m, \u001b[39m'\u001b[39m\u001b[39men_GB\u001b[39m\u001b[39m'\u001b[39m)\n",
      "File \u001b[1;32mc:\\Users\\Dan\\docs\\aws\\league_ml\\.venv\\lib\\site-packages\\riotwatcher\\_apis\\league_of_legends\\SummonerApiV4.py:46\u001b[0m, in \u001b[0;36mSummonerApiV4.by_name\u001b[1;34m(self, region, summoner_name)\u001b[0m\n\u001b[0;32m     37\u001b[0m \u001b[39mdef\u001b[39;00m \u001b[39mby_name\u001b[39m(\u001b[39mself\u001b[39m, region: \u001b[39mstr\u001b[39m, summoner_name: \u001b[39mstr\u001b[39m):\n\u001b[0;32m     38\u001b[0m     \u001b[39m\"\"\"\u001b[39;00m\n\u001b[0;32m     39\u001b[0m \u001b[39m    Get a summoner by summoner name\u001b[39;00m\n\u001b[0;32m     40\u001b[0m \n\u001b[1;32m   (...)\u001b[0m\n\u001b[0;32m     44\u001b[0m \u001b[39m    :returns: SummonerDTO: represents a summoner\u001b[39;00m\n\u001b[0;32m     45\u001b[0m \u001b[39m    \"\"\"\u001b[39;00m\n\u001b[1;32m---> 46\u001b[0m     \u001b[39mreturn\u001b[39;00m \u001b[39mself\u001b[39;49m\u001b[39m.\u001b[39;49m_request_endpoint(\n\u001b[0;32m     47\u001b[0m         \u001b[39mself\u001b[39;49m\u001b[39m.\u001b[39;49mby_name\u001b[39m.\u001b[39;49m\u001b[39m__name__\u001b[39;49m,\n\u001b[0;32m     48\u001b[0m         region,\n\u001b[0;32m     49\u001b[0m         SummonerApiV4Urls\u001b[39m.\u001b[39;49mby_name,\n\u001b[0;32m     50\u001b[0m         summoner_name\u001b[39m=\u001b[39;49msummoner_name,\n\u001b[0;32m     51\u001b[0m     )\n",
      "File \u001b[1;32mc:\\Users\\Dan\\docs\\aws\\league_ml\\.venv\\lib\\site-packages\\riotwatcher\\_apis\\NamedEndpoint.py:36\u001b[0m, in \u001b[0;36mNamedEndpoint._request_endpoint\u001b[1;34m(self, method_name, region, endpoint, **kwargs)\u001b[0m\n\u001b[0;32m     26\u001b[0m \u001b[39m\"\"\"\u001b[39;00m\n\u001b[0;32m     27\u001b[0m \u001b[39mSends a request through the BaseApi instance provided, injecting the provided\u001b[39;00m\n\u001b[0;32m     28\u001b[0m \u001b[39mendpoint_name into the method call, so the caller doesn't have to.\u001b[39;00m\n\u001b[1;32m   (...)\u001b[0m\n\u001b[0;32m     33\u001b[0m \u001b[39m                            parameters\u001b[39;00m\n\u001b[0;32m     34\u001b[0m \u001b[39m\"\"\"\u001b[39;00m\n\u001b[0;32m     35\u001b[0m url, query \u001b[39m=\u001b[39m endpoint(platform\u001b[39m=\u001b[39mregion, \u001b[39m*\u001b[39m\u001b[39m*\u001b[39mkwargs)\n\u001b[1;32m---> 36\u001b[0m \u001b[39mreturn\u001b[39;00m \u001b[39mself\u001b[39;49m\u001b[39m.\u001b[39;49m_base_api\u001b[39m.\u001b[39;49mraw_request(\n\u001b[0;32m     37\u001b[0m     \u001b[39mself\u001b[39;49m\u001b[39m.\u001b[39;49m_endpoint_name, method_name, region, url, query\n\u001b[0;32m     38\u001b[0m )\n",
      "File \u001b[1;32mc:\\Users\\Dan\\docs\\aws\\league_ml\\.venv\\lib\\site-packages\\riotwatcher\\_apis\\BaseApi.py:51\u001b[0m, in \u001b[0;36mBaseApi.raw_request\u001b[1;34m(self, endpoint_name, method_name, region, url, query_params)\u001b[0m\n\u001b[0;32m     49\u001b[0m \u001b[39mif\u001b[39;00m \u001b[39mself\u001b[39m\u001b[39m.\u001b[39m_request_handlers \u001b[39mis\u001b[39;00m \u001b[39mnot\u001b[39;00m \u001b[39mNone\u001b[39;00m:\n\u001b[0;32m     50\u001b[0m     \u001b[39mfor\u001b[39;00m handler \u001b[39min\u001b[39;00m \u001b[39mself\u001b[39m\u001b[39m.\u001b[39m_request_handlers[early_ret_idx:\u001b[39mNone\u001b[39;00m:\u001b[39m-\u001b[39m\u001b[39m1\u001b[39m]:\n\u001b[1;32m---> 51\u001b[0m         mod \u001b[39m=\u001b[39m handler\u001b[39m.\u001b[39;49mafter_request(\n\u001b[0;32m     52\u001b[0m             region, endpoint_name, method_name, url, response\n\u001b[0;32m     53\u001b[0m         )\n\u001b[0;32m     54\u001b[0m         \u001b[39mif\u001b[39;00m mod \u001b[39mis\u001b[39;00m \u001b[39mnot\u001b[39;00m \u001b[39mNone\u001b[39;00m:\n\u001b[0;32m     55\u001b[0m             response \u001b[39m=\u001b[39m mod\n",
      "File \u001b[1;32mc:\\Users\\Dan\\docs\\aws\\league_ml\\.venv\\lib\\site-packages\\riotwatcher\\Handlers\\ThrowOnErrorHandler.py:20\u001b[0m, in \u001b[0;36mThrowOnErrorHandler.after_request\u001b[1;34m(self, region, endpoint_name, method_name, url, response)\u001b[0m\n\u001b[0;32m     18\u001b[0m     response\u001b[39m.\u001b[39mraise_for_status()\n\u001b[0;32m     19\u001b[0m \u001b[39mexcept\u001b[39;00m requests\u001b[39m.\u001b[39mHTTPError \u001b[39mas\u001b[39;00m err:\n\u001b[1;32m---> 20\u001b[0m     \u001b[39mraise\u001b[39;00m ApiError(\u001b[39m*\u001b[39merr\u001b[39m.\u001b[39margs, request\u001b[39m=\u001b[39merr\u001b[39m.\u001b[39mrequest, response\u001b[39m=\u001b[39merr\u001b[39m.\u001b[39mresponse)\n",
      "\u001b[1;31mHTTPError\u001b[0m: 403 Client Error: Forbidden for url: https://euw1.api.riotgames.com/lol/summoner/v4/summoners/by-name/Incident"
     ]
    }
   ],
   "source": [
    "from riot_request.request import RiotRequest\n",
    "\n",
    "api_key = \"RGAPI-94402067-bb26-4a4c-b517-216bd4d50a4f\"\n",
    "riot = RiotRequest(api_key, \"Incident\", \"euw1\")"
   ]
  },
  {
   "cell_type": "code",
   "execution_count": 1,
   "metadata": {},
   "outputs": [],
   "source": [
    "import boto3\n",
    "\n",
    "cf_client = boto3.client('cloudformation')\n",
    "ddb = boto3.client('dynamodb')\n",
    "stack_name = 'LeagueMLStack'"
   ]
  },
  {
   "cell_type": "code",
   "execution_count": 8,
   "metadata": {},
   "outputs": [
    {
     "data": {
      "text/plain": [
       "'1'"
      ]
     },
     "execution_count": 8,
     "metadata": {},
     "output_type": "execute_result"
    }
   ],
   "source": [
    "puuids = {'puuid': '1'}, {'puuid': '2'}, {'puuid': '13'}, {'puuid': '24'}\n",
    "\n",
    "puuids[0:2][0]['puuid']"
   ]
  },
  {
   "cell_type": "code",
   "execution_count": 2,
   "metadata": {},
   "outputs": [
    {
     "name": "stdout",
     "output_type": "stream",
     "text": [
      "LeagueMLStack-Data666C94C7-1MPZLGXH7Y9IZ\n"
     ]
    }
   ],
   "source": [
    "response = cf_client.describe_stacks(StackName = stack_name)\n",
    "\n",
    "outputs = response['Stacks'][0]['Outputs']\n",
    "table_name = ''\n",
    "\n",
    "for output in outputs:\n",
    "    keyName = output['OutputKey']\n",
    "    if keyName == \"DataTableName\":\n",
    "        table_name = output['OutputValue']\n",
    "    \n",
    "print(table_name)"
   ]
  },
  {
   "cell_type": "code",
   "execution_count": 12,
   "metadata": {},
   "outputs": [
    {
     "ename": "ClientError",
     "evalue": "An error occurred (ValidationException) when calling the Query operation: Invalid KeyConditionExpression: Attribute name is a reserved keyword; reserved keyword: key",
     "output_type": "error",
     "traceback": [
      "\u001b[1;31m---------------------------------------------------------------------------\u001b[0m",
      "\u001b[1;31mClientError\u001b[0m                               Traceback (most recent call last)",
      "\u001b[1;32mc:\\Users\\Dan\\docs\\aws\\league_ml\\test.ipynb Cell 4\u001b[0m in \u001b[0;36m<cell line: 3>\u001b[1;34m()\u001b[0m\n\u001b[0;32m      <a href='vscode-notebook-cell:/c%3A/Users/Dan/docs/aws/league_ml/test.ipynb#ch0000002?line=0'>1</a>\u001b[0m \u001b[39mfrom\u001b[39;00m \u001b[39mboto3\u001b[39;00m\u001b[39m.\u001b[39;00m\u001b[39mdynamodb\u001b[39;00m\u001b[39m.\u001b[39;00m\u001b[39mconditions\u001b[39;00m \u001b[39mimport\u001b[39;00m Key\n\u001b[1;32m----> <a href='vscode-notebook-cell:/c%3A/Users/Dan/docs/aws/league_ml/test.ipynb#ch0000002?line=2'>3</a>\u001b[0m resp \u001b[39m=\u001b[39m ddb\u001b[39m.\u001b[39;49mquery(\n\u001b[0;32m      <a href='vscode-notebook-cell:/c%3A/Users/Dan/docs/aws/league_ml/test.ipynb#ch0000002?line=3'>4</a>\u001b[0m     TableName \u001b[39m=\u001b[39;49m table_name,\n\u001b[0;32m      <a href='vscode-notebook-cell:/c%3A/Users/Dan/docs/aws/league_ml/test.ipynb#ch0000002?line=4'>5</a>\u001b[0m     KeyConditionExpression \u001b[39m=\u001b[39;49m \u001b[39m'\u001b[39;49m\u001b[39mbegins_with (key, :puuid)\u001b[39;49m\u001b[39m'\u001b[39;49m,\n\u001b[0;32m      <a href='vscode-notebook-cell:/c%3A/Users/Dan/docs/aws/league_ml/test.ipynb#ch0000002?line=5'>6</a>\u001b[0m     ExpressionAttributeValues \u001b[39m=\u001b[39;49m {\n\u001b[0;32m      <a href='vscode-notebook-cell:/c%3A/Users/Dan/docs/aws/league_ml/test.ipynb#ch0000002?line=6'>7</a>\u001b[0m         \u001b[39m'\u001b[39;49m\u001b[39m:puuid\u001b[39;49m\u001b[39m'\u001b[39;49m: {\u001b[39m'\u001b[39;49m\u001b[39mS\u001b[39;49m\u001b[39m'\u001b[39;49m: \u001b[39m'\u001b[39;49m\u001b[39mpuuid/\u001b[39;49m\u001b[39m'\u001b[39;49m}\n\u001b[0;32m      <a href='vscode-notebook-cell:/c%3A/Users/Dan/docs/aws/league_ml/test.ipynb#ch0000002?line=7'>8</a>\u001b[0m     }\n\u001b[0;32m      <a href='vscode-notebook-cell:/c%3A/Users/Dan/docs/aws/league_ml/test.ipynb#ch0000002?line=8'>9</a>\u001b[0m )\n",
      "File \u001b[1;32mc:\\Users\\Dan\\docs\\aws\\league_ml\\.venv\\lib\\site-packages\\botocore\\client.py:508\u001b[0m, in \u001b[0;36mClientCreator._create_api_method.<locals>._api_call\u001b[1;34m(self, *args, **kwargs)\u001b[0m\n\u001b[0;32m    504\u001b[0m     \u001b[39mraise\u001b[39;00m \u001b[39mTypeError\u001b[39;00m(\n\u001b[0;32m    505\u001b[0m         \u001b[39mf\u001b[39m\u001b[39m\"\u001b[39m\u001b[39m{\u001b[39;00mpy_operation_name\u001b[39m}\u001b[39;00m\u001b[39m() only accepts keyword arguments.\u001b[39m\u001b[39m\"\u001b[39m\n\u001b[0;32m    506\u001b[0m     )\n\u001b[0;32m    507\u001b[0m \u001b[39m# The \"self\" in this scope is referring to the BaseClient.\u001b[39;00m\n\u001b[1;32m--> 508\u001b[0m \u001b[39mreturn\u001b[39;00m \u001b[39mself\u001b[39;49m\u001b[39m.\u001b[39;49m_make_api_call(operation_name, kwargs)\n",
      "File \u001b[1;32mc:\\Users\\Dan\\docs\\aws\\league_ml\\.venv\\lib\\site-packages\\botocore\\client.py:915\u001b[0m, in \u001b[0;36mBaseClient._make_api_call\u001b[1;34m(self, operation_name, api_params)\u001b[0m\n\u001b[0;32m    913\u001b[0m     error_code \u001b[39m=\u001b[39m parsed_response\u001b[39m.\u001b[39mget(\u001b[39m\"\u001b[39m\u001b[39mError\u001b[39m\u001b[39m\"\u001b[39m, {})\u001b[39m.\u001b[39mget(\u001b[39m\"\u001b[39m\u001b[39mCode\u001b[39m\u001b[39m\"\u001b[39m)\n\u001b[0;32m    914\u001b[0m     error_class \u001b[39m=\u001b[39m \u001b[39mself\u001b[39m\u001b[39m.\u001b[39mexceptions\u001b[39m.\u001b[39mfrom_code(error_code)\n\u001b[1;32m--> 915\u001b[0m     \u001b[39mraise\u001b[39;00m error_class(parsed_response, operation_name)\n\u001b[0;32m    916\u001b[0m \u001b[39melse\u001b[39;00m:\n\u001b[0;32m    917\u001b[0m     \u001b[39mreturn\u001b[39;00m parsed_response\n",
      "\u001b[1;31mClientError\u001b[0m: An error occurred (ValidationException) when calling the Query operation: Invalid KeyConditionExpression: Attribute name is a reserved keyword; reserved keyword: key"
     ]
    }
   ],
   "source": [
    "\n",
    "from boto3.dynamodb.conditions import Key\n",
    "\n",
    "resp = ddb.query(\n",
    "    TableName = table_name,\n",
    "    KeyConditionExpression = 'begins_with (key, :puuid)',\n",
    "    ExpressionAttributeValues = {\n",
    "        ':puuid': {'S': 'puuid/'}\n",
    "    }\n",
    ")"
   ]
  }
 ],
 "metadata": {
  "kernelspec": {
   "display_name": "Python 3.10.5 ('.venv': venv)",
   "language": "python",
   "name": "python3"
  },
  "language_info": {
   "codemirror_mode": {
    "name": "ipython",
    "version": 3
   },
   "file_extension": ".py",
   "mimetype": "text/x-python",
   "name": "python",
   "nbconvert_exporter": "python",
   "pygments_lexer": "ipython3",
   "version": "3.10.5"
  },
  "orig_nbformat": 4,
  "vscode": {
   "interpreter": {
    "hash": "6c9671c7439d8568b827106e379be76ff2cee694f1855beed06dab4c92d78103"
   }
  }
 },
 "nbformat": 4,
 "nbformat_minor": 2
}
